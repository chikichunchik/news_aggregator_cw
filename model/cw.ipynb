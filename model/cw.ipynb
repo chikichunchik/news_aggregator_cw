{
 "cells": [
  {
   "cell_type": "code",
   "execution_count": 32,
   "id": "4b4d6f47",
   "metadata": {},
   "outputs": [
    {
     "name": "stderr",
     "output_type": "stream",
     "text": [
      "[nltk_data] Downloading package punkt to\n",
      "[nltk_data]     C:\\Users\\andry\\AppData\\Roaming\\nltk_data...\n",
      "[nltk_data]   Package punkt is already up-to-date!\n",
      "[nltk_data] Downloading package wordnet to\n",
      "[nltk_data]     C:\\Users\\andry\\AppData\\Roaming\\nltk_data...\n",
      "[nltk_data]   Package wordnet is already up-to-date!\n",
      "[nltk_data] Downloading package omw-1.4 to\n",
      "[nltk_data]     C:\\Users\\andry\\AppData\\Roaming\\nltk_data...\n",
      "[nltk_data]   Package omw-1.4 is already up-to-date!\n",
      "[nltk_data] Downloading package stopwords to\n",
      "[nltk_data]     C:\\Users\\andry\\AppData\\Roaming\\nltk_data...\n",
      "[nltk_data]   Unzipping corpora\\stopwords.zip.\n"
     ]
    }
   ],
   "source": [
    "from functools import reduce\n",
    "import nltk\n",
    "import warnings\n",
    "import pandas as pd\n",
    "import re\n",
    "from nltk.stem import WordNetLemmatizer \n",
    "import string\n",
    "from nltk.corpus import stopwords\n",
    "import numpy as np\n",
    "from sklearn.feature_extraction.text import CountVectorizer\n",
    "from sklearn.feature_extraction.text import TfidfTransformer\n",
    "from sklearn.naive_bayes import MultinomialNB\n",
    "from sklearn.metrics import accuracy_score\n",
    "from sklearn.metrics import classification_report\n",
    "from sklearn.linear_model import LogisticRegression\n",
    "from sklearn.ensemble import RandomForestClassifier\n",
    "from sklearn.svm import LinearSVC\n",
    "from sklearn.model_selection import GridSearchCV\n",
    "import joblib\n",
    "from sklearn.pipeline import make_pipeline\n",
    "from sklearn.model_selection import train_test_split\n",
    "import nltk\n",
    "nltk.download('punkt')\n",
    "nltk.download('wordnet')\n",
    "nltk.download('omw-1.4')\n",
    "nltk.download('stopwords')\n",
    "\n",
    "warnings.filterwarnings(\"ignore\")"
   ]
  },
  {
   "cell_type": "markdown",
   "id": "343879b7",
   "metadata": {},
   "source": [
    "# Read data"
   ]
  },
  {
   "cell_type": "code",
   "execution_count": 70,
   "id": "2dcd18e1",
   "metadata": {},
   "outputs": [],
   "source": [
    "df = pd.read_json('News_Category_Dataset_v3.json', lines=True)"
   ]
  },
  {
   "cell_type": "code",
   "execution_count": 71,
   "id": "3c8b38e8",
   "metadata": {},
   "outputs": [
    {
     "data": {
      "text/html": [
       "<div>\n",
       "<style scoped>\n",
       "    .dataframe tbody tr th:only-of-type {\n",
       "        vertical-align: middle;\n",
       "    }\n",
       "\n",
       "    .dataframe tbody tr th {\n",
       "        vertical-align: top;\n",
       "    }\n",
       "\n",
       "    .dataframe thead th {\n",
       "        text-align: right;\n",
       "    }\n",
       "</style>\n",
       "<table border=\"1\" class=\"dataframe\">\n",
       "  <thead>\n",
       "    <tr style=\"text-align: right;\">\n",
       "      <th></th>\n",
       "      <th>link</th>\n",
       "      <th>headline</th>\n",
       "      <th>category</th>\n",
       "      <th>short_description</th>\n",
       "      <th>authors</th>\n",
       "      <th>date</th>\n",
       "    </tr>\n",
       "  </thead>\n",
       "  <tbody>\n",
       "    <tr>\n",
       "      <th>0</th>\n",
       "      <td>https://www.huffpost.com/entry/covid-boosters-...</td>\n",
       "      <td>Over 4 Million Americans Roll Up Sleeves For O...</td>\n",
       "      <td>U.S. NEWS</td>\n",
       "      <td>Health experts said it is too early to predict...</td>\n",
       "      <td>Carla K. Johnson, AP</td>\n",
       "      <td>2022-09-23</td>\n",
       "    </tr>\n",
       "    <tr>\n",
       "      <th>1</th>\n",
       "      <td>https://www.huffpost.com/entry/american-airlin...</td>\n",
       "      <td>American Airlines Flyer Charged, Banned For Li...</td>\n",
       "      <td>U.S. NEWS</td>\n",
       "      <td>He was subdued by passengers and crew when he ...</td>\n",
       "      <td>Mary Papenfuss</td>\n",
       "      <td>2022-09-23</td>\n",
       "    </tr>\n",
       "    <tr>\n",
       "      <th>2</th>\n",
       "      <td>https://www.huffpost.com/entry/funniest-tweets...</td>\n",
       "      <td>23 Of The Funniest Tweets About Cats And Dogs ...</td>\n",
       "      <td>COMEDY</td>\n",
       "      <td>\"Until you have a dog you don't understand wha...</td>\n",
       "      <td>Elyse Wanshel</td>\n",
       "      <td>2022-09-23</td>\n",
       "    </tr>\n",
       "    <tr>\n",
       "      <th>3</th>\n",
       "      <td>https://www.huffpost.com/entry/funniest-parent...</td>\n",
       "      <td>The Funniest Tweets From Parents This Week (Se...</td>\n",
       "      <td>PARENTING</td>\n",
       "      <td>\"Accidentally put grown-up toothpaste on my to...</td>\n",
       "      <td>Caroline Bologna</td>\n",
       "      <td>2022-09-23</td>\n",
       "    </tr>\n",
       "    <tr>\n",
       "      <th>4</th>\n",
       "      <td>https://www.huffpost.com/entry/amy-cooper-lose...</td>\n",
       "      <td>Woman Who Called Cops On Black Bird-Watcher Lo...</td>\n",
       "      <td>U.S. NEWS</td>\n",
       "      <td>Amy Cooper accused investment firm Franklin Te...</td>\n",
       "      <td>Nina Golgowski</td>\n",
       "      <td>2022-09-22</td>\n",
       "    </tr>\n",
       "    <tr>\n",
       "      <th>...</th>\n",
       "      <td>...</td>\n",
       "      <td>...</td>\n",
       "      <td>...</td>\n",
       "      <td>...</td>\n",
       "      <td>...</td>\n",
       "      <td>...</td>\n",
       "    </tr>\n",
       "    <tr>\n",
       "      <th>209522</th>\n",
       "      <td>https://www.huffingtonpost.com/entry/rim-ceo-t...</td>\n",
       "      <td>RIM CEO Thorsten Heins' 'Significant' Plans Fo...</td>\n",
       "      <td>TECH</td>\n",
       "      <td>Verizon Wireless and AT&amp;T are already promotin...</td>\n",
       "      <td>Reuters, Reuters</td>\n",
       "      <td>2012-01-28</td>\n",
       "    </tr>\n",
       "    <tr>\n",
       "      <th>209523</th>\n",
       "      <td>https://www.huffingtonpost.com/entry/maria-sha...</td>\n",
       "      <td>Maria Sharapova Stunned By Victoria Azarenka I...</td>\n",
       "      <td>SPORTS</td>\n",
       "      <td>Afterward, Azarenka, more effusive with the pr...</td>\n",
       "      <td></td>\n",
       "      <td>2012-01-28</td>\n",
       "    </tr>\n",
       "    <tr>\n",
       "      <th>209524</th>\n",
       "      <td>https://www.huffingtonpost.com/entry/super-bow...</td>\n",
       "      <td>Giants Over Patriots, Jets Over Colts Among  M...</td>\n",
       "      <td>SPORTS</td>\n",
       "      <td>Leading up to Super Bowl XLVI, the most talked...</td>\n",
       "      <td></td>\n",
       "      <td>2012-01-28</td>\n",
       "    </tr>\n",
       "    <tr>\n",
       "      <th>209525</th>\n",
       "      <td>https://www.huffingtonpost.com/entry/aldon-smi...</td>\n",
       "      <td>Aldon Smith Arrested: 49ers Linebacker Busted ...</td>\n",
       "      <td>SPORTS</td>\n",
       "      <td>CORRECTION: An earlier version of this story i...</td>\n",
       "      <td></td>\n",
       "      <td>2012-01-28</td>\n",
       "    </tr>\n",
       "    <tr>\n",
       "      <th>209526</th>\n",
       "      <td>https://www.huffingtonpost.com/entry/dwight-ho...</td>\n",
       "      <td>Dwight Howard Rips Teammates After Magic Loss ...</td>\n",
       "      <td>SPORTS</td>\n",
       "      <td>The five-time all-star center tore into his te...</td>\n",
       "      <td></td>\n",
       "      <td>2012-01-28</td>\n",
       "    </tr>\n",
       "  </tbody>\n",
       "</table>\n",
       "<p>209527 rows × 6 columns</p>\n",
       "</div>"
      ],
      "text/plain": [
       "                                                     link  \\\n",
       "0       https://www.huffpost.com/entry/covid-boosters-...   \n",
       "1       https://www.huffpost.com/entry/american-airlin...   \n",
       "2       https://www.huffpost.com/entry/funniest-tweets...   \n",
       "3       https://www.huffpost.com/entry/funniest-parent...   \n",
       "4       https://www.huffpost.com/entry/amy-cooper-lose...   \n",
       "...                                                   ...   \n",
       "209522  https://www.huffingtonpost.com/entry/rim-ceo-t...   \n",
       "209523  https://www.huffingtonpost.com/entry/maria-sha...   \n",
       "209524  https://www.huffingtonpost.com/entry/super-bow...   \n",
       "209525  https://www.huffingtonpost.com/entry/aldon-smi...   \n",
       "209526  https://www.huffingtonpost.com/entry/dwight-ho...   \n",
       "\n",
       "                                                 headline   category  \\\n",
       "0       Over 4 Million Americans Roll Up Sleeves For O...  U.S. NEWS   \n",
       "1       American Airlines Flyer Charged, Banned For Li...  U.S. NEWS   \n",
       "2       23 Of The Funniest Tweets About Cats And Dogs ...     COMEDY   \n",
       "3       The Funniest Tweets From Parents This Week (Se...  PARENTING   \n",
       "4       Woman Who Called Cops On Black Bird-Watcher Lo...  U.S. NEWS   \n",
       "...                                                   ...        ...   \n",
       "209522  RIM CEO Thorsten Heins' 'Significant' Plans Fo...       TECH   \n",
       "209523  Maria Sharapova Stunned By Victoria Azarenka I...     SPORTS   \n",
       "209524  Giants Over Patriots, Jets Over Colts Among  M...     SPORTS   \n",
       "209525  Aldon Smith Arrested: 49ers Linebacker Busted ...     SPORTS   \n",
       "209526  Dwight Howard Rips Teammates After Magic Loss ...     SPORTS   \n",
       "\n",
       "                                        short_description  \\\n",
       "0       Health experts said it is too early to predict...   \n",
       "1       He was subdued by passengers and crew when he ...   \n",
       "2       \"Until you have a dog you don't understand wha...   \n",
       "3       \"Accidentally put grown-up toothpaste on my to...   \n",
       "4       Amy Cooper accused investment firm Franklin Te...   \n",
       "...                                                   ...   \n",
       "209522  Verizon Wireless and AT&T are already promotin...   \n",
       "209523  Afterward, Azarenka, more effusive with the pr...   \n",
       "209524  Leading up to Super Bowl XLVI, the most talked...   \n",
       "209525  CORRECTION: An earlier version of this story i...   \n",
       "209526  The five-time all-star center tore into his te...   \n",
       "\n",
       "                     authors       date  \n",
       "0       Carla K. Johnson, AP 2022-09-23  \n",
       "1             Mary Papenfuss 2022-09-23  \n",
       "2              Elyse Wanshel 2022-09-23  \n",
       "3           Caroline Bologna 2022-09-23  \n",
       "4             Nina Golgowski 2022-09-22  \n",
       "...                      ...        ...  \n",
       "209522      Reuters, Reuters 2012-01-28  \n",
       "209523                       2012-01-28  \n",
       "209524                       2012-01-28  \n",
       "209525                       2012-01-28  \n",
       "209526                       2012-01-28  \n",
       "\n",
       "[209527 rows x 6 columns]"
      ]
     },
     "execution_count": 71,
     "metadata": {},
     "output_type": "execute_result"
    }
   ],
   "source": [
    "df"
   ]
  },
  {
   "cell_type": "code",
   "execution_count": 72,
   "id": "fcb63ddb",
   "metadata": {
    "scrolled": false
   },
   "outputs": [
    {
     "data": {
      "text/plain": [
       "POLITICS          35602\n",
       "WELLNESS          17945\n",
       "ENTERTAINMENT     17362\n",
       "TRAVEL             9900\n",
       "STYLE & BEAUTY     9814\n",
       "PARENTING          8791\n",
       "HEALTHY LIVING     6694\n",
       "QUEER VOICES       6347\n",
       "FOOD & DRINK       6340\n",
       "BUSINESS           5992\n",
       "COMEDY             5400\n",
       "SPORTS             5077\n",
       "BLACK VOICES       4583\n",
       "HOME & LIVING      4320\n",
       "PARENTS            3955\n",
       "THE WORLDPOST      3664\n",
       "WEDDINGS           3653\n",
       "WOMEN              3572\n",
       "CRIME              3562\n",
       "IMPACT             3484\n",
       "DIVORCE            3426\n",
       "WORLD NEWS         3299\n",
       "MEDIA              2944\n",
       "WEIRD NEWS         2777\n",
       "GREEN              2622\n",
       "WORLDPOST          2579\n",
       "RELIGION           2577\n",
       "STYLE              2254\n",
       "SCIENCE            2206\n",
       "TECH               2104\n",
       "TASTE              2096\n",
       "MONEY              1756\n",
       "ARTS               1509\n",
       "ENVIRONMENT        1444\n",
       "FIFTY              1401\n",
       "GOOD NEWS          1398\n",
       "U.S. NEWS          1377\n",
       "ARTS & CULTURE     1339\n",
       "COLLEGE            1144\n",
       "LATINO VOICES      1130\n",
       "CULTURE & ARTS     1074\n",
       "EDUCATION          1014\n",
       "Name: category, dtype: int64"
      ]
     },
     "execution_count": 72,
     "metadata": {},
     "output_type": "execute_result"
    }
   ],
   "source": [
    "df['category'].value_counts()"
   ]
  },
  {
   "cell_type": "code",
   "execution_count": 73,
   "id": "8695e4e7",
   "metadata": {},
   "outputs": [],
   "source": [
    "drop_categories = ['LATINO VOICES', 'WORLDPOST', 'WORLD NEWS', 'THE WORLDPOST', 'QUEER VOICES', 'BLACK VOICES']"
   ]
  },
  {
   "cell_type": "code",
   "execution_count": 74,
   "id": "91ce6bb0",
   "metadata": {},
   "outputs": [],
   "source": [
    "df = df.drop(index=df[df['category'].isin(drop_categories)].index)"
   ]
  },
  {
   "cell_type": "code",
   "execution_count": 75,
   "id": "f7701d1c",
   "metadata": {},
   "outputs": [
    {
     "data": {
      "text/html": [
       "<div>\n",
       "<style scoped>\n",
       "    .dataframe tbody tr th:only-of-type {\n",
       "        vertical-align: middle;\n",
       "    }\n",
       "\n",
       "    .dataframe tbody tr th {\n",
       "        vertical-align: top;\n",
       "    }\n",
       "\n",
       "    .dataframe thead th {\n",
       "        text-align: right;\n",
       "    }\n",
       "</style>\n",
       "<table border=\"1\" class=\"dataframe\">\n",
       "  <thead>\n",
       "    <tr style=\"text-align: right;\">\n",
       "      <th></th>\n",
       "      <th>link</th>\n",
       "      <th>headline</th>\n",
       "      <th>category</th>\n",
       "      <th>short_description</th>\n",
       "      <th>authors</th>\n",
       "      <th>date</th>\n",
       "    </tr>\n",
       "  </thead>\n",
       "  <tbody>\n",
       "    <tr>\n",
       "      <th>count</th>\n",
       "      <td>187925</td>\n",
       "      <td>187925</td>\n",
       "      <td>187925</td>\n",
       "      <td>187925</td>\n",
       "      <td>187925</td>\n",
       "      <td>187925</td>\n",
       "    </tr>\n",
       "    <tr>\n",
       "      <th>unique</th>\n",
       "      <td>187887</td>\n",
       "      <td>186432</td>\n",
       "      <td>36</td>\n",
       "      <td>168282</td>\n",
       "      <td>25111</td>\n",
       "      <td>3878</td>\n",
       "    </tr>\n",
       "    <tr>\n",
       "      <th>top</th>\n",
       "      <td>https://www.huffingtonpost.comhttp://www.nytim...</td>\n",
       "      <td>Sunday Roundup</td>\n",
       "      <td>POLITICS</td>\n",
       "      <td></td>\n",
       "      <td></td>\n",
       "      <td>2013-06-03 00:00:00</td>\n",
       "    </tr>\n",
       "    <tr>\n",
       "      <th>freq</th>\n",
       "      <td>2</td>\n",
       "      <td>90</td>\n",
       "      <td>35602</td>\n",
       "      <td>17115</td>\n",
       "      <td>32332</td>\n",
       "      <td>100</td>\n",
       "    </tr>\n",
       "    <tr>\n",
       "      <th>first</th>\n",
       "      <td>NaN</td>\n",
       "      <td>NaN</td>\n",
       "      <td>NaN</td>\n",
       "      <td>NaN</td>\n",
       "      <td>NaN</td>\n",
       "      <td>2012-01-28 00:00:00</td>\n",
       "    </tr>\n",
       "    <tr>\n",
       "      <th>last</th>\n",
       "      <td>NaN</td>\n",
       "      <td>NaN</td>\n",
       "      <td>NaN</td>\n",
       "      <td>NaN</td>\n",
       "      <td>NaN</td>\n",
       "      <td>2022-09-23 00:00:00</td>\n",
       "    </tr>\n",
       "  </tbody>\n",
       "</table>\n",
       "</div>"
      ],
      "text/plain": [
       "                                                     link        headline  \\\n",
       "count                                              187925          187925   \n",
       "unique                                             187887          186432   \n",
       "top     https://www.huffingtonpost.comhttp://www.nytim...  Sunday Roundup   \n",
       "freq                                                    2              90   \n",
       "first                                                 NaN             NaN   \n",
       "last                                                  NaN             NaN   \n",
       "\n",
       "        category short_description authors                 date  \n",
       "count     187925            187925  187925               187925  \n",
       "unique        36            168282   25111                 3878  \n",
       "top     POLITICS                            2013-06-03 00:00:00  \n",
       "freq       35602             17115   32332                  100  \n",
       "first        NaN               NaN     NaN  2012-01-28 00:00:00  \n",
       "last         NaN               NaN     NaN  2022-09-23 00:00:00  "
      ]
     },
     "execution_count": 75,
     "metadata": {},
     "output_type": "execute_result"
    }
   ],
   "source": [
    "df.describe()"
   ]
  },
  {
   "cell_type": "code",
   "execution_count": 76,
   "id": "b3bdbec9",
   "metadata": {},
   "outputs": [
    {
     "name": "stdout",
     "output_type": "stream",
     "text": [
      "<class 'pandas.core.frame.DataFrame'>\n",
      "Int64Index: 187925 entries, 0 to 209526\n",
      "Data columns (total 6 columns):\n",
      " #   Column             Non-Null Count   Dtype         \n",
      "---  ------             --------------   -----         \n",
      " 0   link               187925 non-null  object        \n",
      " 1   headline           187925 non-null  object        \n",
      " 2   category           187925 non-null  object        \n",
      " 3   short_description  187925 non-null  object        \n",
      " 4   authors            187925 non-null  object        \n",
      " 5   date               187925 non-null  datetime64[ns]\n",
      "dtypes: datetime64[ns](1), object(5)\n",
      "memory usage: 10.0+ MB\n"
     ]
    }
   ],
   "source": [
    "df.info()"
   ]
  },
  {
   "cell_type": "markdown",
   "id": "9524b622",
   "metadata": {},
   "source": [
    "# Train test split"
   ]
  },
  {
   "cell_type": "code",
   "execution_count": 77,
   "id": "99371de2",
   "metadata": {},
   "outputs": [],
   "source": [
    "X_train, X_test, y_train, y_test = train_test_split(df[['headline', 'short_description']], df['category'], test_size=0.3, stratify=df['category'])"
   ]
  },
  {
   "cell_type": "code",
   "execution_count": 78,
   "id": "59d8896f",
   "metadata": {},
   "outputs": [
    {
     "data": {
      "text/plain": [
       "POLITICS          24921\n",
       "WELLNESS          12561\n",
       "ENTERTAINMENT     12153\n",
       "TRAVEL             6930\n",
       "STYLE & BEAUTY     6870\n",
       "PARENTING          6154\n",
       "HEALTHY LIVING     4686\n",
       "FOOD & DRINK       4438\n",
       "BUSINESS           4194\n",
       "COMEDY             3780\n",
       "SPORTS             3554\n",
       "HOME & LIVING      3024\n",
       "PARENTS            2769\n",
       "WEDDINGS           2557\n",
       "WOMEN              2500\n",
       "CRIME              2493\n",
       "IMPACT             2439\n",
       "DIVORCE            2398\n",
       "MEDIA              2061\n",
       "WEIRD NEWS         1944\n",
       "GREEN              1835\n",
       "RELIGION           1804\n",
       "STYLE              1578\n",
       "SCIENCE            1544\n",
       "TECH               1473\n",
       "TASTE              1467\n",
       "MONEY              1229\n",
       "ARTS               1056\n",
       "ENVIRONMENT        1011\n",
       "FIFTY               981\n",
       "GOOD NEWS           979\n",
       "U.S. NEWS           964\n",
       "ARTS & CULTURE      937\n",
       "COLLEGE             801\n",
       "CULTURE & ARTS      752\n",
       "EDUCATION           710\n",
       "Name: category, dtype: int64"
      ]
     },
     "execution_count": 78,
     "metadata": {},
     "output_type": "execute_result"
    }
   ],
   "source": [
    "y_train.value_counts()"
   ]
  },
  {
   "cell_type": "code",
   "execution_count": 79,
   "id": "a35eb066",
   "metadata": {},
   "outputs": [
    {
     "data": {
      "text/plain": [
       "POLITICS          10681\n",
       "WELLNESS           5384\n",
       "ENTERTAINMENT      5209\n",
       "TRAVEL             2970\n",
       "STYLE & BEAUTY     2944\n",
       "PARENTING          2637\n",
       "HEALTHY LIVING     2008\n",
       "FOOD & DRINK       1902\n",
       "BUSINESS           1798\n",
       "COMEDY             1620\n",
       "SPORTS             1523\n",
       "HOME & LIVING      1296\n",
       "PARENTS            1186\n",
       "WEDDINGS           1096\n",
       "WOMEN              1072\n",
       "CRIME              1069\n",
       "IMPACT             1045\n",
       "DIVORCE            1028\n",
       "MEDIA               883\n",
       "WEIRD NEWS          833\n",
       "GREEN               787\n",
       "RELIGION            773\n",
       "STYLE               676\n",
       "SCIENCE             662\n",
       "TECH                631\n",
       "TASTE               629\n",
       "MONEY               527\n",
       "ARTS                453\n",
       "ENVIRONMENT         433\n",
       "FIFTY               420\n",
       "GOOD NEWS           419\n",
       "U.S. NEWS           413\n",
       "ARTS & CULTURE      402\n",
       "COLLEGE             343\n",
       "CULTURE & ARTS      322\n",
       "EDUCATION           304\n",
       "Name: category, dtype: int64"
      ]
     },
     "execution_count": 79,
     "metadata": {},
     "output_type": "execute_result"
    }
   ],
   "source": [
    "y_test.value_counts()"
   ]
  },
  {
   "cell_type": "markdown",
   "id": "1b16aa51",
   "metadata": {},
   "source": [
    "# Create pre-processing class"
   ]
  },
  {
   "cell_type": "code",
   "execution_count": 80,
   "id": "8e27c2c4",
   "metadata": {},
   "outputs": [],
   "source": [
    "class Transformer():\n",
    "    def __init__(self):\n",
    "        pass\n",
    "    \n",
    "    def transform(self, x):\n",
    "        x['summary'] = x['headline'] + ' ' + x['headline']\n",
    "        x['summary'] = x['summary'].map(Transformer.__remove_punctuation)\n",
    "        x['summary'] = x['summary'].map(Transformer.__clean_text)\n",
    "        x['summary'] = x['summary'].map(Transformer.__lemmatizer)\n",
    "        x['summary'] = x['summary'].map(Transformer.__remove_stopwords)\n",
    "\n",
    "        return x['summary']\n",
    "\n",
    "    def fit(self, x, y):\n",
    "        return self\n",
    "    \n",
    "    @staticmethod\n",
    "    def __clean_text(text):\n",
    "        text= text.lower()\n",
    "        text= ' '.join(re.sub(\"(@[A-Za-z0-9]+)\", \" \", text).split()) #tags\n",
    "        text= ' '.join(re.sub(\"^@?(\\w){1,15}$\", \" \", text).split())\n",
    "\n",
    "        text= ' '.join(re.sub(\"(\\w+:\\/\\/\\S+)\", \" \", text).split())   #Links\n",
    "        text= ' '.join(re.sub(\"http[s]?://(?:[a-zA-Z]|[0-9]|[$-_@.&+]|[!*\\(\\), ]|(?:%[0-9a-fA-F][0-9a-fA-F]))+\",\" \", text).split()) \n",
    "        text= ' '.join(re.sub(r'http\\S+', '',text).split())\n",
    "        text= ' '.join(re.sub(r'www\\S+', '',text).split())\n",
    "        text= ' '.join(re.sub(\"\\s+\", \" \",text).split()) #Extrem white Space\n",
    "        text= ' '.join(re.sub(\"[^-9A-Za-z ]\", \"\" ,text).split()) #digits \n",
    "        text= ' '.join(re.sub('-', ' ', text).split()) \n",
    "        text= ' '.join(re.sub('_', ' ', text).split()) #underscore     \n",
    "        return text\n",
    "    \n",
    "    @staticmethod\n",
    "    def __remove_stopwords(text):\n",
    "        \"\"\"The function to removing stopwords\"\"\"\n",
    "        stop = stopwords.words('english')\n",
    "        text = [word.lower() for word in text.split() if word.lower() not in stop]\n",
    "        return \" \".join(text)\n",
    "    \n",
    "    @staticmethod\n",
    "    def __lemmatizer(text):\n",
    "        \"\"\"The function to apply lemmatizing\"\"\"\n",
    "        word_list = nltk.word_tokenize(text)\n",
    "        lemmatized_text = ' '.join([WordNetLemmatizer().lemmatize(w) for w in word_list])\n",
    "        return lemmatized_text\n",
    "    \n",
    "    @staticmethod\n",
    "    def __remove_punctuation(text):\n",
    "        \"\"\"The function to remove punctuation\"\"\"\n",
    "        text = str(text)\n",
    "        table = str.maketrans('', '', string.punctuation)\n",
    "        return text.translate(table)    "
   ]
  },
  {
   "cell_type": "markdown",
   "id": "51eecc58",
   "metadata": {},
   "source": [
    "# Preprocess data"
   ]
  },
  {
   "cell_type": "code",
   "execution_count": 81,
   "id": "d456479e",
   "metadata": {},
   "outputs": [],
   "source": [
    "tfidf = TfidfTransformer()\n",
    "cv = CountVectorizer()\n",
    "X_train = tfidf.fit_transform(cv.fit_transform(Transformer().transform(X_train)))"
   ]
  },
  {
   "cell_type": "code",
   "execution_count": 82,
   "id": "f3878495",
   "metadata": {},
   "outputs": [
    {
     "data": {
      "text/plain": [
       "['models/cv.joblib']"
      ]
     },
     "execution_count": 82,
     "metadata": {},
     "output_type": "execute_result"
    }
   ],
   "source": [
    "joblib.dump(tfidf, 'models/tfidf.joblib')\n",
    "joblib.dump(cv, 'models/cv.joblib')"
   ]
  },
  {
   "cell_type": "markdown",
   "id": "e6259724",
   "metadata": {},
   "source": [
    "# Fit models"
   ]
  },
  {
   "cell_type": "markdown",
   "id": "199681df",
   "metadata": {},
   "source": [
    "## Naive Bayes"
   ]
  },
  {
   "cell_type": "code",
   "execution_count": 83,
   "id": "24fc284f",
   "metadata": {},
   "outputs": [
    {
     "data": {
      "text/html": [
       "<style>#sk-container-id-11 {color: black;background-color: white;}#sk-container-id-11 pre{padding: 0;}#sk-container-id-11 div.sk-toggleable {background-color: white;}#sk-container-id-11 label.sk-toggleable__label {cursor: pointer;display: block;width: 100%;margin-bottom: 0;padding: 0.3em;box-sizing: border-box;text-align: center;}#sk-container-id-11 label.sk-toggleable__label-arrow:before {content: \"▸\";float: left;margin-right: 0.25em;color: #696969;}#sk-container-id-11 label.sk-toggleable__label-arrow:hover:before {color: black;}#sk-container-id-11 div.sk-estimator:hover label.sk-toggleable__label-arrow:before {color: black;}#sk-container-id-11 div.sk-toggleable__content {max-height: 0;max-width: 0;overflow: hidden;text-align: left;background-color: #f0f8ff;}#sk-container-id-11 div.sk-toggleable__content pre {margin: 0.2em;color: black;border-radius: 0.25em;background-color: #f0f8ff;}#sk-container-id-11 input.sk-toggleable__control:checked~div.sk-toggleable__content {max-height: 200px;max-width: 100%;overflow: auto;}#sk-container-id-11 input.sk-toggleable__control:checked~label.sk-toggleable__label-arrow:before {content: \"▾\";}#sk-container-id-11 div.sk-estimator input.sk-toggleable__control:checked~label.sk-toggleable__label {background-color: #d4ebff;}#sk-container-id-11 div.sk-label input.sk-toggleable__control:checked~label.sk-toggleable__label {background-color: #d4ebff;}#sk-container-id-11 input.sk-hidden--visually {border: 0;clip: rect(1px 1px 1px 1px);clip: rect(1px, 1px, 1px, 1px);height: 1px;margin: -1px;overflow: hidden;padding: 0;position: absolute;width: 1px;}#sk-container-id-11 div.sk-estimator {font-family: monospace;background-color: #f0f8ff;border: 1px dotted black;border-radius: 0.25em;box-sizing: border-box;margin-bottom: 0.5em;}#sk-container-id-11 div.sk-estimator:hover {background-color: #d4ebff;}#sk-container-id-11 div.sk-parallel-item::after {content: \"\";width: 100%;border-bottom: 1px solid gray;flex-grow: 1;}#sk-container-id-11 div.sk-label:hover label.sk-toggleable__label {background-color: #d4ebff;}#sk-container-id-11 div.sk-serial::before {content: \"\";position: absolute;border-left: 1px solid gray;box-sizing: border-box;top: 0;bottom: 0;left: 50%;z-index: 0;}#sk-container-id-11 div.sk-serial {display: flex;flex-direction: column;align-items: center;background-color: white;padding-right: 0.2em;padding-left: 0.2em;position: relative;}#sk-container-id-11 div.sk-item {position: relative;z-index: 1;}#sk-container-id-11 div.sk-parallel {display: flex;align-items: stretch;justify-content: center;background-color: white;position: relative;}#sk-container-id-11 div.sk-item::before, #sk-container-id-11 div.sk-parallel-item::before {content: \"\";position: absolute;border-left: 1px solid gray;box-sizing: border-box;top: 0;bottom: 0;left: 50%;z-index: -1;}#sk-container-id-11 div.sk-parallel-item {display: flex;flex-direction: column;z-index: 1;position: relative;background-color: white;}#sk-container-id-11 div.sk-parallel-item:first-child::after {align-self: flex-end;width: 50%;}#sk-container-id-11 div.sk-parallel-item:last-child::after {align-self: flex-start;width: 50%;}#sk-container-id-11 div.sk-parallel-item:only-child::after {width: 0;}#sk-container-id-11 div.sk-dashed-wrapped {border: 1px dashed gray;margin: 0 0.4em 0.5em 0.4em;box-sizing: border-box;padding-bottom: 0.4em;background-color: white;}#sk-container-id-11 div.sk-label label {font-family: monospace;font-weight: bold;display: inline-block;line-height: 1.2em;}#sk-container-id-11 div.sk-label-container {text-align: center;}#sk-container-id-11 div.sk-container {/* jupyter's `normalize.less` sets `[hidden] { display: none; }` but bootstrap.min.css set `[hidden] { display: none !important; }` so we also need the `!important` here to be able to override the default hidden behavior on the sphinx rendered scikit-learn.org. See: https://github.com/scikit-learn/scikit-learn/issues/21755 */display: inline-block !important;position: relative;}#sk-container-id-11 div.sk-text-repr-fallback {display: none;}</style><div id=\"sk-container-id-11\" class=\"sk-top-container\"><div class=\"sk-text-repr-fallback\"><pre>MultinomialNB(alpha=0.05)</pre><b>In a Jupyter environment, please rerun this cell to show the HTML representation or trust the notebook. <br />On GitHub, the HTML representation is unable to render, please try loading this page with nbviewer.org.</b></div><div class=\"sk-container\" hidden><div class=\"sk-item\"><div class=\"sk-estimator sk-toggleable\"><input class=\"sk-toggleable__control sk-hidden--visually\" id=\"sk-estimator-id-15\" type=\"checkbox\" checked><label for=\"sk-estimator-id-15\" class=\"sk-toggleable__label sk-toggleable__label-arrow\">MultinomialNB</label><div class=\"sk-toggleable__content\"><pre>MultinomialNB(alpha=0.05)</pre></div></div></div></div></div>"
      ],
      "text/plain": [
       "MultinomialNB(alpha=0.05)"
      ]
     },
     "execution_count": 83,
     "metadata": {},
     "output_type": "execute_result"
    }
   ],
   "source": [
    "# fit new model\n",
    "model_NB = MultinomialNB()\n",
    "model_NB = GridSearchCV(model_NB, {'alpha': [0.05, 0.1, 0.5, 1, 2]}, cv=5, n_jobs=4).fit(X_train, y_train).best_estimator_\n",
    "model_NB"
   ]
  },
  {
   "cell_type": "code",
   "execution_count": 84,
   "id": "a983d59e",
   "metadata": {},
   "outputs": [
    {
     "data": {
      "text/plain": [
       "['models/NB.joblib']"
      ]
     },
     "execution_count": 84,
     "metadata": {},
     "output_type": "execute_result"
    }
   ],
   "source": [
    "# Dump model\n",
    "joblib.dump(model_NB, 'models/NB.joblib')"
   ]
  },
  {
   "cell_type": "code",
   "execution_count": 85,
   "id": "05d5a2fe",
   "metadata": {},
   "outputs": [
    {
     "data": {
      "text/html": [
       "<style>#sk-container-id-12 {color: black;background-color: white;}#sk-container-id-12 pre{padding: 0;}#sk-container-id-12 div.sk-toggleable {background-color: white;}#sk-container-id-12 label.sk-toggleable__label {cursor: pointer;display: block;width: 100%;margin-bottom: 0;padding: 0.3em;box-sizing: border-box;text-align: center;}#sk-container-id-12 label.sk-toggleable__label-arrow:before {content: \"▸\";float: left;margin-right: 0.25em;color: #696969;}#sk-container-id-12 label.sk-toggleable__label-arrow:hover:before {color: black;}#sk-container-id-12 div.sk-estimator:hover label.sk-toggleable__label-arrow:before {color: black;}#sk-container-id-12 div.sk-toggleable__content {max-height: 0;max-width: 0;overflow: hidden;text-align: left;background-color: #f0f8ff;}#sk-container-id-12 div.sk-toggleable__content pre {margin: 0.2em;color: black;border-radius: 0.25em;background-color: #f0f8ff;}#sk-container-id-12 input.sk-toggleable__control:checked~div.sk-toggleable__content {max-height: 200px;max-width: 100%;overflow: auto;}#sk-container-id-12 input.sk-toggleable__control:checked~label.sk-toggleable__label-arrow:before {content: \"▾\";}#sk-container-id-12 div.sk-estimator input.sk-toggleable__control:checked~label.sk-toggleable__label {background-color: #d4ebff;}#sk-container-id-12 div.sk-label input.sk-toggleable__control:checked~label.sk-toggleable__label {background-color: #d4ebff;}#sk-container-id-12 input.sk-hidden--visually {border: 0;clip: rect(1px 1px 1px 1px);clip: rect(1px, 1px, 1px, 1px);height: 1px;margin: -1px;overflow: hidden;padding: 0;position: absolute;width: 1px;}#sk-container-id-12 div.sk-estimator {font-family: monospace;background-color: #f0f8ff;border: 1px dotted black;border-radius: 0.25em;box-sizing: border-box;margin-bottom: 0.5em;}#sk-container-id-12 div.sk-estimator:hover {background-color: #d4ebff;}#sk-container-id-12 div.sk-parallel-item::after {content: \"\";width: 100%;border-bottom: 1px solid gray;flex-grow: 1;}#sk-container-id-12 div.sk-label:hover label.sk-toggleable__label {background-color: #d4ebff;}#sk-container-id-12 div.sk-serial::before {content: \"\";position: absolute;border-left: 1px solid gray;box-sizing: border-box;top: 0;bottom: 0;left: 50%;z-index: 0;}#sk-container-id-12 div.sk-serial {display: flex;flex-direction: column;align-items: center;background-color: white;padding-right: 0.2em;padding-left: 0.2em;position: relative;}#sk-container-id-12 div.sk-item {position: relative;z-index: 1;}#sk-container-id-12 div.sk-parallel {display: flex;align-items: stretch;justify-content: center;background-color: white;position: relative;}#sk-container-id-12 div.sk-item::before, #sk-container-id-12 div.sk-parallel-item::before {content: \"\";position: absolute;border-left: 1px solid gray;box-sizing: border-box;top: 0;bottom: 0;left: 50%;z-index: -1;}#sk-container-id-12 div.sk-parallel-item {display: flex;flex-direction: column;z-index: 1;position: relative;background-color: white;}#sk-container-id-12 div.sk-parallel-item:first-child::after {align-self: flex-end;width: 50%;}#sk-container-id-12 div.sk-parallel-item:last-child::after {align-self: flex-start;width: 50%;}#sk-container-id-12 div.sk-parallel-item:only-child::after {width: 0;}#sk-container-id-12 div.sk-dashed-wrapped {border: 1px dashed gray;margin: 0 0.4em 0.5em 0.4em;box-sizing: border-box;padding-bottom: 0.4em;background-color: white;}#sk-container-id-12 div.sk-label label {font-family: monospace;font-weight: bold;display: inline-block;line-height: 1.2em;}#sk-container-id-12 div.sk-label-container {text-align: center;}#sk-container-id-12 div.sk-container {/* jupyter's `normalize.less` sets `[hidden] { display: none; }` but bootstrap.min.css set `[hidden] { display: none !important; }` so we also need the `!important` here to be able to override the default hidden behavior on the sphinx rendered scikit-learn.org. See: https://github.com/scikit-learn/scikit-learn/issues/21755 */display: inline-block !important;position: relative;}#sk-container-id-12 div.sk-text-repr-fallback {display: none;}</style><div id=\"sk-container-id-12\" class=\"sk-top-container\"><div class=\"sk-text-repr-fallback\"><pre>MultinomialNB(alpha=0.05)</pre><b>In a Jupyter environment, please rerun this cell to show the HTML representation or trust the notebook. <br />On GitHub, the HTML representation is unable to render, please try loading this page with nbviewer.org.</b></div><div class=\"sk-container\" hidden><div class=\"sk-item\"><div class=\"sk-estimator sk-toggleable\"><input class=\"sk-toggleable__control sk-hidden--visually\" id=\"sk-estimator-id-16\" type=\"checkbox\" checked><label for=\"sk-estimator-id-16\" class=\"sk-toggleable__label sk-toggleable__label-arrow\">MultinomialNB</label><div class=\"sk-toggleable__content\"><pre>MultinomialNB(alpha=0.05)</pre></div></div></div></div></div>"
      ],
      "text/plain": [
       "MultinomialNB(alpha=0.05)"
      ]
     },
     "execution_count": 85,
     "metadata": {},
     "output_type": "execute_result"
    }
   ],
   "source": [
    "# Load fitted model\n",
    "model_NB = joblib.load('models/NB.joblib')\n",
    "model_NB"
   ]
  },
  {
   "cell_type": "markdown",
   "id": "4af6c246",
   "metadata": {},
   "source": [
    "## Linear SVC"
   ]
  },
  {
   "cell_type": "code",
   "execution_count": 86,
   "id": "f10642c6",
   "metadata": {},
   "outputs": [
    {
     "name": "stdout",
     "output_type": "stream",
     "text": [
      "Fitting 5 folds for each of 5 candidates, totalling 25 fits\n",
      "[CV 1/5; 1/5] START C=1.........................................................\n",
      "[CV 1/5; 1/5] END ..........................C=1;, score=0.598 total time=   7.4s\n",
      "[CV 2/5; 1/5] START C=1.........................................................\n",
      "[CV 2/5; 1/5] END ..........................C=1;, score=0.595 total time=   7.3s\n",
      "[CV 3/5; 1/5] START C=1.........................................................\n",
      "[CV 3/5; 1/5] END ..........................C=1;, score=0.597 total time=   7.4s\n",
      "[CV 4/5; 1/5] START C=1.........................................................\n",
      "[CV 4/5; 1/5] END ..........................C=1;, score=0.601 total time=   7.3s\n",
      "[CV 5/5; 1/5] START C=1.........................................................\n",
      "[CV 5/5; 1/5] END ..........................C=1;, score=0.597 total time=   7.3s\n",
      "[CV 1/5; 2/5] START C=7.........................................................\n",
      "[CV 1/5; 2/5] END ..........................C=7;, score=0.553 total time=  20.3s\n",
      "[CV 2/5; 2/5] START C=7.........................................................\n",
      "[CV 2/5; 2/5] END ..........................C=7;, score=0.552 total time=  20.2s\n",
      "[CV 3/5; 2/5] START C=7.........................................................\n",
      "[CV 3/5; 2/5] END ..........................C=7;, score=0.552 total time=  20.9s\n",
      "[CV 4/5; 2/5] START C=7.........................................................\n",
      "[CV 4/5; 2/5] END ..........................C=7;, score=0.558 total time=  20.5s\n",
      "[CV 5/5; 2/5] START C=7.........................................................\n",
      "[CV 5/5; 2/5] END ..........................C=7;, score=0.551 total time=  19.8s\n",
      "[CV 1/5; 3/5] START C=20........................................................\n",
      "[CV 1/5; 3/5] END .........................C=20;, score=0.526 total time=  42.2s\n",
      "[CV 2/5; 3/5] START C=20........................................................\n",
      "[CV 2/5; 3/5] END .........................C=20;, score=0.525 total time=  43.6s\n",
      "[CV 3/5; 3/5] START C=20........................................................\n",
      "[CV 3/5; 3/5] END .........................C=20;, score=0.523 total time=  42.0s\n",
      "[CV 4/5; 3/5] START C=20........................................................\n",
      "[CV 4/5; 3/5] END .........................C=20;, score=0.528 total time=  42.2s\n",
      "[CV 5/5; 3/5] START C=20........................................................\n",
      "[CV 5/5; 3/5] END .........................C=20;, score=0.521 total time=  41.9s\n",
      "[CV 1/5; 4/5] START C=35........................................................\n",
      "[CV 1/5; 4/5] END .........................C=35;, score=0.512 total time=  45.2s\n",
      "[CV 2/5; 4/5] START C=35........................................................\n",
      "[CV 2/5; 4/5] END .........................C=35;, score=0.507 total time=  44.9s\n",
      "[CV 3/5; 4/5] START C=35........................................................\n",
      "[CV 3/5; 4/5] END .........................C=35;, score=0.508 total time=  45.0s\n",
      "[CV 4/5; 4/5] START C=35........................................................\n",
      "[CV 4/5; 4/5] END .........................C=35;, score=0.513 total time=  45.2s\n",
      "[CV 5/5; 4/5] START C=35........................................................\n",
      "[CV 5/5; 4/5] END .........................C=35;, score=0.507 total time=  44.2s\n",
      "[CV 1/5; 5/5] START C=50........................................................\n",
      "[CV 1/5; 5/5] END .........................C=50;, score=0.504 total time=  46.3s\n",
      "[CV 2/5; 5/5] START C=50........................................................\n",
      "[CV 2/5; 5/5] END .........................C=50;, score=0.499 total time=  46.2s\n",
      "[CV 3/5; 5/5] START C=50........................................................\n",
      "[CV 3/5; 5/5] END .........................C=50;, score=0.501 total time=  46.4s\n",
      "[CV 4/5; 5/5] START C=50........................................................\n",
      "[CV 4/5; 5/5] END .........................C=50;, score=0.505 total time=  46.8s\n",
      "[CV 5/5; 5/5] START C=50........................................................\n",
      "[CV 5/5; 5/5] END .........................C=50;, score=0.498 total time=  46.0s\n"
     ]
    },
    {
     "data": {
      "text/html": [
       "<style>#sk-container-id-13 {color: black;background-color: white;}#sk-container-id-13 pre{padding: 0;}#sk-container-id-13 div.sk-toggleable {background-color: white;}#sk-container-id-13 label.sk-toggleable__label {cursor: pointer;display: block;width: 100%;margin-bottom: 0;padding: 0.3em;box-sizing: border-box;text-align: center;}#sk-container-id-13 label.sk-toggleable__label-arrow:before {content: \"▸\";float: left;margin-right: 0.25em;color: #696969;}#sk-container-id-13 label.sk-toggleable__label-arrow:hover:before {color: black;}#sk-container-id-13 div.sk-estimator:hover label.sk-toggleable__label-arrow:before {color: black;}#sk-container-id-13 div.sk-toggleable__content {max-height: 0;max-width: 0;overflow: hidden;text-align: left;background-color: #f0f8ff;}#sk-container-id-13 div.sk-toggleable__content pre {margin: 0.2em;color: black;border-radius: 0.25em;background-color: #f0f8ff;}#sk-container-id-13 input.sk-toggleable__control:checked~div.sk-toggleable__content {max-height: 200px;max-width: 100%;overflow: auto;}#sk-container-id-13 input.sk-toggleable__control:checked~label.sk-toggleable__label-arrow:before {content: \"▾\";}#sk-container-id-13 div.sk-estimator input.sk-toggleable__control:checked~label.sk-toggleable__label {background-color: #d4ebff;}#sk-container-id-13 div.sk-label input.sk-toggleable__control:checked~label.sk-toggleable__label {background-color: #d4ebff;}#sk-container-id-13 input.sk-hidden--visually {border: 0;clip: rect(1px 1px 1px 1px);clip: rect(1px, 1px, 1px, 1px);height: 1px;margin: -1px;overflow: hidden;padding: 0;position: absolute;width: 1px;}#sk-container-id-13 div.sk-estimator {font-family: monospace;background-color: #f0f8ff;border: 1px dotted black;border-radius: 0.25em;box-sizing: border-box;margin-bottom: 0.5em;}#sk-container-id-13 div.sk-estimator:hover {background-color: #d4ebff;}#sk-container-id-13 div.sk-parallel-item::after {content: \"\";width: 100%;border-bottom: 1px solid gray;flex-grow: 1;}#sk-container-id-13 div.sk-label:hover label.sk-toggleable__label {background-color: #d4ebff;}#sk-container-id-13 div.sk-serial::before {content: \"\";position: absolute;border-left: 1px solid gray;box-sizing: border-box;top: 0;bottom: 0;left: 50%;z-index: 0;}#sk-container-id-13 div.sk-serial {display: flex;flex-direction: column;align-items: center;background-color: white;padding-right: 0.2em;padding-left: 0.2em;position: relative;}#sk-container-id-13 div.sk-item {position: relative;z-index: 1;}#sk-container-id-13 div.sk-parallel {display: flex;align-items: stretch;justify-content: center;background-color: white;position: relative;}#sk-container-id-13 div.sk-item::before, #sk-container-id-13 div.sk-parallel-item::before {content: \"\";position: absolute;border-left: 1px solid gray;box-sizing: border-box;top: 0;bottom: 0;left: 50%;z-index: -1;}#sk-container-id-13 div.sk-parallel-item {display: flex;flex-direction: column;z-index: 1;position: relative;background-color: white;}#sk-container-id-13 div.sk-parallel-item:first-child::after {align-self: flex-end;width: 50%;}#sk-container-id-13 div.sk-parallel-item:last-child::after {align-self: flex-start;width: 50%;}#sk-container-id-13 div.sk-parallel-item:only-child::after {width: 0;}#sk-container-id-13 div.sk-dashed-wrapped {border: 1px dashed gray;margin: 0 0.4em 0.5em 0.4em;box-sizing: border-box;padding-bottom: 0.4em;background-color: white;}#sk-container-id-13 div.sk-label label {font-family: monospace;font-weight: bold;display: inline-block;line-height: 1.2em;}#sk-container-id-13 div.sk-label-container {text-align: center;}#sk-container-id-13 div.sk-container {/* jupyter's `normalize.less` sets `[hidden] { display: none; }` but bootstrap.min.css set `[hidden] { display: none !important; }` so we also need the `!important` here to be able to override the default hidden behavior on the sphinx rendered scikit-learn.org. See: https://github.com/scikit-learn/scikit-learn/issues/21755 */display: inline-block !important;position: relative;}#sk-container-id-13 div.sk-text-repr-fallback {display: none;}</style><div id=\"sk-container-id-13\" class=\"sk-top-container\"><div class=\"sk-text-repr-fallback\"><pre>LinearSVC(C=1)</pre><b>In a Jupyter environment, please rerun this cell to show the HTML representation or trust the notebook. <br />On GitHub, the HTML representation is unable to render, please try loading this page with nbviewer.org.</b></div><div class=\"sk-container\" hidden><div class=\"sk-item\"><div class=\"sk-estimator sk-toggleable\"><input class=\"sk-toggleable__control sk-hidden--visually\" id=\"sk-estimator-id-17\" type=\"checkbox\" checked><label for=\"sk-estimator-id-17\" class=\"sk-toggleable__label sk-toggleable__label-arrow\">LinearSVC</label><div class=\"sk-toggleable__content\"><pre>LinearSVC(C=1)</pre></div></div></div></div></div>"
      ],
      "text/plain": [
       "LinearSVC(C=1)"
      ]
     },
     "execution_count": 86,
     "metadata": {},
     "output_type": "execute_result"
    }
   ],
   "source": [
    "# fit new model\n",
    "model_SVM = LinearSVC()\n",
    "model_SVM = GridSearchCV(model_SVM, {'C': [1, 7, 20, 35, 50]}, cv=5, verbose=100).fit(X_train, y_train).best_estimator_\n",
    "model_SVM"
   ]
  },
  {
   "cell_type": "code",
   "execution_count": 87,
   "id": "230b8a08",
   "metadata": {},
   "outputs": [
    {
     "data": {
      "text/plain": [
       "['models/SVC.joblib']"
      ]
     },
     "execution_count": 87,
     "metadata": {},
     "output_type": "execute_result"
    }
   ],
   "source": [
    "# Dump model\n",
    "joblib.dump(model_SVM, 'models/SVC.joblib')"
   ]
  },
  {
   "cell_type": "code",
   "execution_count": 88,
   "id": "eeedde5d",
   "metadata": {},
   "outputs": [
    {
     "data": {
      "text/html": [
       "<style>#sk-container-id-14 {color: black;background-color: white;}#sk-container-id-14 pre{padding: 0;}#sk-container-id-14 div.sk-toggleable {background-color: white;}#sk-container-id-14 label.sk-toggleable__label {cursor: pointer;display: block;width: 100%;margin-bottom: 0;padding: 0.3em;box-sizing: border-box;text-align: center;}#sk-container-id-14 label.sk-toggleable__label-arrow:before {content: \"▸\";float: left;margin-right: 0.25em;color: #696969;}#sk-container-id-14 label.sk-toggleable__label-arrow:hover:before {color: black;}#sk-container-id-14 div.sk-estimator:hover label.sk-toggleable__label-arrow:before {color: black;}#sk-container-id-14 div.sk-toggleable__content {max-height: 0;max-width: 0;overflow: hidden;text-align: left;background-color: #f0f8ff;}#sk-container-id-14 div.sk-toggleable__content pre {margin: 0.2em;color: black;border-radius: 0.25em;background-color: #f0f8ff;}#sk-container-id-14 input.sk-toggleable__control:checked~div.sk-toggleable__content {max-height: 200px;max-width: 100%;overflow: auto;}#sk-container-id-14 input.sk-toggleable__control:checked~label.sk-toggleable__label-arrow:before {content: \"▾\";}#sk-container-id-14 div.sk-estimator input.sk-toggleable__control:checked~label.sk-toggleable__label {background-color: #d4ebff;}#sk-container-id-14 div.sk-label input.sk-toggleable__control:checked~label.sk-toggleable__label {background-color: #d4ebff;}#sk-container-id-14 input.sk-hidden--visually {border: 0;clip: rect(1px 1px 1px 1px);clip: rect(1px, 1px, 1px, 1px);height: 1px;margin: -1px;overflow: hidden;padding: 0;position: absolute;width: 1px;}#sk-container-id-14 div.sk-estimator {font-family: monospace;background-color: #f0f8ff;border: 1px dotted black;border-radius: 0.25em;box-sizing: border-box;margin-bottom: 0.5em;}#sk-container-id-14 div.sk-estimator:hover {background-color: #d4ebff;}#sk-container-id-14 div.sk-parallel-item::after {content: \"\";width: 100%;border-bottom: 1px solid gray;flex-grow: 1;}#sk-container-id-14 div.sk-label:hover label.sk-toggleable__label {background-color: #d4ebff;}#sk-container-id-14 div.sk-serial::before {content: \"\";position: absolute;border-left: 1px solid gray;box-sizing: border-box;top: 0;bottom: 0;left: 50%;z-index: 0;}#sk-container-id-14 div.sk-serial {display: flex;flex-direction: column;align-items: center;background-color: white;padding-right: 0.2em;padding-left: 0.2em;position: relative;}#sk-container-id-14 div.sk-item {position: relative;z-index: 1;}#sk-container-id-14 div.sk-parallel {display: flex;align-items: stretch;justify-content: center;background-color: white;position: relative;}#sk-container-id-14 div.sk-item::before, #sk-container-id-14 div.sk-parallel-item::before {content: \"\";position: absolute;border-left: 1px solid gray;box-sizing: border-box;top: 0;bottom: 0;left: 50%;z-index: -1;}#sk-container-id-14 div.sk-parallel-item {display: flex;flex-direction: column;z-index: 1;position: relative;background-color: white;}#sk-container-id-14 div.sk-parallel-item:first-child::after {align-self: flex-end;width: 50%;}#sk-container-id-14 div.sk-parallel-item:last-child::after {align-self: flex-start;width: 50%;}#sk-container-id-14 div.sk-parallel-item:only-child::after {width: 0;}#sk-container-id-14 div.sk-dashed-wrapped {border: 1px dashed gray;margin: 0 0.4em 0.5em 0.4em;box-sizing: border-box;padding-bottom: 0.4em;background-color: white;}#sk-container-id-14 div.sk-label label {font-family: monospace;font-weight: bold;display: inline-block;line-height: 1.2em;}#sk-container-id-14 div.sk-label-container {text-align: center;}#sk-container-id-14 div.sk-container {/* jupyter's `normalize.less` sets `[hidden] { display: none; }` but bootstrap.min.css set `[hidden] { display: none !important; }` so we also need the `!important` here to be able to override the default hidden behavior on the sphinx rendered scikit-learn.org. See: https://github.com/scikit-learn/scikit-learn/issues/21755 */display: inline-block !important;position: relative;}#sk-container-id-14 div.sk-text-repr-fallback {display: none;}</style><div id=\"sk-container-id-14\" class=\"sk-top-container\"><div class=\"sk-text-repr-fallback\"><pre>LinearSVC(C=1)</pre><b>In a Jupyter environment, please rerun this cell to show the HTML representation or trust the notebook. <br />On GitHub, the HTML representation is unable to render, please try loading this page with nbviewer.org.</b></div><div class=\"sk-container\" hidden><div class=\"sk-item\"><div class=\"sk-estimator sk-toggleable\"><input class=\"sk-toggleable__control sk-hidden--visually\" id=\"sk-estimator-id-18\" type=\"checkbox\" checked><label for=\"sk-estimator-id-18\" class=\"sk-toggleable__label sk-toggleable__label-arrow\">LinearSVC</label><div class=\"sk-toggleable__content\"><pre>LinearSVC(C=1)</pre></div></div></div></div></div>"
      ],
      "text/plain": [
       "LinearSVC(C=1)"
      ]
     },
     "execution_count": 88,
     "metadata": {},
     "output_type": "execute_result"
    }
   ],
   "source": [
    "# Load fitted model\n",
    "model_SVC = joblib.load('models/SVC.joblib')\n",
    "model_SVC"
   ]
  },
  {
   "cell_type": "markdown",
   "id": "0dad3609",
   "metadata": {},
   "source": [
    "## Logistic regression"
   ]
  },
  {
   "cell_type": "code",
   "execution_count": 89,
   "id": "3ca83a27",
   "metadata": {},
   "outputs": [
    {
     "name": "stdout",
     "output_type": "stream",
     "text": [
      "Fitting 5 folds for each of 6 candidates, totalling 30 fits\n",
      "[CV 1/5; 1/6] START C=0.1.......................................................\n",
      "[CV 1/5; 1/6] END ........................C=0.1;, score=0.467 total time=  31.9s\n",
      "[CV 2/5; 1/6] START C=0.1.......................................................\n",
      "[CV 2/5; 1/6] END ........................C=0.1;, score=0.464 total time=  32.1s\n",
      "[CV 3/5; 1/6] START C=0.1.......................................................\n",
      "[CV 3/5; 1/6] END ........................C=0.1;, score=0.463 total time=  32.3s\n",
      "[CV 4/5; 1/6] START C=0.1.......................................................\n",
      "[CV 4/5; 1/6] END ........................C=0.1;, score=0.464 total time=  31.7s\n",
      "[CV 5/5; 1/6] START C=0.1.......................................................\n",
      "[CV 5/5; 1/6] END ........................C=0.1;, score=0.467 total time=  32.7s\n",
      "[CV 1/5; 2/6] START C=1.........................................................\n",
      "[CV 1/5; 2/6] END ..........................C=1;, score=0.583 total time=  32.1s\n",
      "[CV 2/5; 2/6] START C=1.........................................................\n",
      "[CV 2/5; 2/6] END ..........................C=1;, score=0.584 total time=  32.0s\n",
      "[CV 3/5; 2/6] START C=1.........................................................\n",
      "[CV 3/5; 2/6] END ..........................C=1;, score=0.585 total time=  32.4s\n",
      "[CV 4/5; 2/6] START C=1.........................................................\n",
      "[CV 4/5; 2/6] END ..........................C=1;, score=0.584 total time=  32.4s\n",
      "[CV 5/5; 2/6] START C=1.........................................................\n",
      "[CV 5/5; 2/6] END ..........................C=1;, score=0.581 total time=  34.1s\n",
      "[CV 1/5; 3/6] START C=7.........................................................\n",
      "[CV 1/5; 3/6] END ..........................C=7;, score=0.589 total time=  32.7s\n",
      "[CV 2/5; 3/6] START C=7.........................................................\n",
      "[CV 2/5; 3/6] END ..........................C=7;, score=0.580 total time=  32.9s\n",
      "[CV 3/5; 3/6] START C=7.........................................................\n",
      "[CV 3/5; 3/6] END ..........................C=7;, score=0.594 total time=  33.3s\n",
      "[CV 4/5; 3/6] START C=7.........................................................\n",
      "[CV 4/5; 3/6] END ..........................C=7;, score=0.591 total time=  32.4s\n",
      "[CV 5/5; 3/6] START C=7.........................................................\n",
      "[CV 5/5; 3/6] END ..........................C=7;, score=0.594 total time=  33.1s\n",
      "[CV 1/5; 4/6] START C=15........................................................\n",
      "[CV 1/5; 4/6] END .........................C=15;, score=0.582 total time=  32.4s\n",
      "[CV 2/5; 4/6] START C=15........................................................\n",
      "[CV 2/5; 4/6] END .........................C=15;, score=0.585 total time=  32.5s\n",
      "[CV 3/5; 4/6] START C=15........................................................\n",
      "[CV 3/5; 4/6] END .........................C=15;, score=0.593 total time=  33.0s\n",
      "[CV 4/5; 4/6] START C=15........................................................\n",
      "[CV 4/5; 4/6] END .........................C=15;, score=0.587 total time=  32.1s\n",
      "[CV 5/5; 4/6] START C=15........................................................\n",
      "[CV 5/5; 4/6] END .........................C=15;, score=0.583 total time=  32.5s\n",
      "[CV 1/5; 5/6] START C=35........................................................\n",
      "[CV 1/5; 5/6] END .........................C=35;, score=0.589 total time=  32.2s\n",
      "[CV 2/5; 5/6] START C=35........................................................\n",
      "[CV 2/5; 5/6] END .........................C=35;, score=0.584 total time=  32.9s\n",
      "[CV 3/5; 5/6] START C=35........................................................\n",
      "[CV 3/5; 5/6] END .........................C=35;, score=0.577 total time=  32.7s\n",
      "[CV 4/5; 5/6] START C=35........................................................\n",
      "[CV 4/5; 5/6] END .........................C=35;, score=0.583 total time=  32.8s\n",
      "[CV 5/5; 5/6] START C=35........................................................\n",
      "[CV 5/5; 5/6] END .........................C=35;, score=0.579 total time=  33.1s\n",
      "[CV 1/5; 6/6] START C=50........................................................\n",
      "[CV 1/5; 6/6] END .........................C=50;, score=0.577 total time=  33.0s\n",
      "[CV 2/5; 6/6] START C=50........................................................\n",
      "[CV 2/5; 6/6] END .........................C=50;, score=0.570 total time=  34.1s\n",
      "[CV 3/5; 6/6] START C=50........................................................\n",
      "[CV 3/5; 6/6] END .........................C=50;, score=0.576 total time=  32.7s\n",
      "[CV 4/5; 6/6] START C=50........................................................\n",
      "[CV 4/5; 6/6] END .........................C=50;, score=0.593 total time=  32.4s\n",
      "[CV 5/5; 6/6] START C=50........................................................\n",
      "[CV 5/5; 6/6] END .........................C=50;, score=0.578 total time=  33.1s\n"
     ]
    },
    {
     "data": {
      "text/html": [
       "<style>#sk-container-id-15 {color: black;background-color: white;}#sk-container-id-15 pre{padding: 0;}#sk-container-id-15 div.sk-toggleable {background-color: white;}#sk-container-id-15 label.sk-toggleable__label {cursor: pointer;display: block;width: 100%;margin-bottom: 0;padding: 0.3em;box-sizing: border-box;text-align: center;}#sk-container-id-15 label.sk-toggleable__label-arrow:before {content: \"▸\";float: left;margin-right: 0.25em;color: #696969;}#sk-container-id-15 label.sk-toggleable__label-arrow:hover:before {color: black;}#sk-container-id-15 div.sk-estimator:hover label.sk-toggleable__label-arrow:before {color: black;}#sk-container-id-15 div.sk-toggleable__content {max-height: 0;max-width: 0;overflow: hidden;text-align: left;background-color: #f0f8ff;}#sk-container-id-15 div.sk-toggleable__content pre {margin: 0.2em;color: black;border-radius: 0.25em;background-color: #f0f8ff;}#sk-container-id-15 input.sk-toggleable__control:checked~div.sk-toggleable__content {max-height: 200px;max-width: 100%;overflow: auto;}#sk-container-id-15 input.sk-toggleable__control:checked~label.sk-toggleable__label-arrow:before {content: \"▾\";}#sk-container-id-15 div.sk-estimator input.sk-toggleable__control:checked~label.sk-toggleable__label {background-color: #d4ebff;}#sk-container-id-15 div.sk-label input.sk-toggleable__control:checked~label.sk-toggleable__label {background-color: #d4ebff;}#sk-container-id-15 input.sk-hidden--visually {border: 0;clip: rect(1px 1px 1px 1px);clip: rect(1px, 1px, 1px, 1px);height: 1px;margin: -1px;overflow: hidden;padding: 0;position: absolute;width: 1px;}#sk-container-id-15 div.sk-estimator {font-family: monospace;background-color: #f0f8ff;border: 1px dotted black;border-radius: 0.25em;box-sizing: border-box;margin-bottom: 0.5em;}#sk-container-id-15 div.sk-estimator:hover {background-color: #d4ebff;}#sk-container-id-15 div.sk-parallel-item::after {content: \"\";width: 100%;border-bottom: 1px solid gray;flex-grow: 1;}#sk-container-id-15 div.sk-label:hover label.sk-toggleable__label {background-color: #d4ebff;}#sk-container-id-15 div.sk-serial::before {content: \"\";position: absolute;border-left: 1px solid gray;box-sizing: border-box;top: 0;bottom: 0;left: 50%;z-index: 0;}#sk-container-id-15 div.sk-serial {display: flex;flex-direction: column;align-items: center;background-color: white;padding-right: 0.2em;padding-left: 0.2em;position: relative;}#sk-container-id-15 div.sk-item {position: relative;z-index: 1;}#sk-container-id-15 div.sk-parallel {display: flex;align-items: stretch;justify-content: center;background-color: white;position: relative;}#sk-container-id-15 div.sk-item::before, #sk-container-id-15 div.sk-parallel-item::before {content: \"\";position: absolute;border-left: 1px solid gray;box-sizing: border-box;top: 0;bottom: 0;left: 50%;z-index: -1;}#sk-container-id-15 div.sk-parallel-item {display: flex;flex-direction: column;z-index: 1;position: relative;background-color: white;}#sk-container-id-15 div.sk-parallel-item:first-child::after {align-self: flex-end;width: 50%;}#sk-container-id-15 div.sk-parallel-item:last-child::after {align-self: flex-start;width: 50%;}#sk-container-id-15 div.sk-parallel-item:only-child::after {width: 0;}#sk-container-id-15 div.sk-dashed-wrapped {border: 1px dashed gray;margin: 0 0.4em 0.5em 0.4em;box-sizing: border-box;padding-bottom: 0.4em;background-color: white;}#sk-container-id-15 div.sk-label label {font-family: monospace;font-weight: bold;display: inline-block;line-height: 1.2em;}#sk-container-id-15 div.sk-label-container {text-align: center;}#sk-container-id-15 div.sk-container {/* jupyter's `normalize.less` sets `[hidden] { display: none; }` but bootstrap.min.css set `[hidden] { display: none !important; }` so we also need the `!important` here to be able to override the default hidden behavior on the sphinx rendered scikit-learn.org. See: https://github.com/scikit-learn/scikit-learn/issues/21755 */display: inline-block !important;position: relative;}#sk-container-id-15 div.sk-text-repr-fallback {display: none;}</style><div id=\"sk-container-id-15\" class=\"sk-top-container\"><div class=\"sk-text-repr-fallback\"><pre>LogisticRegression(C=7)</pre><b>In a Jupyter environment, please rerun this cell to show the HTML representation or trust the notebook. <br />On GitHub, the HTML representation is unable to render, please try loading this page with nbviewer.org.</b></div><div class=\"sk-container\" hidden><div class=\"sk-item\"><div class=\"sk-estimator sk-toggleable\"><input class=\"sk-toggleable__control sk-hidden--visually\" id=\"sk-estimator-id-19\" type=\"checkbox\" checked><label for=\"sk-estimator-id-19\" class=\"sk-toggleable__label sk-toggleable__label-arrow\">LogisticRegression</label><div class=\"sk-toggleable__content\"><pre>LogisticRegression(C=7)</pre></div></div></div></div></div>"
      ],
      "text/plain": [
       "LogisticRegression(C=7)"
      ]
     },
     "execution_count": 89,
     "metadata": {},
     "output_type": "execute_result"
    }
   ],
   "source": [
    "# fit new model\n",
    "model_LR = LogisticRegression()\n",
    "model_LR = GridSearchCV(model_LR, {'C': [0.1, 1, 7, 15, 35, 50]}, verbose=100).fit(X_train, y_train).best_estimator_\n",
    "model_LR"
   ]
  },
  {
   "cell_type": "code",
   "execution_count": 90,
   "id": "f42095c9",
   "metadata": {},
   "outputs": [
    {
     "data": {
      "text/plain": [
       "['models/LR.joblib']"
      ]
     },
     "execution_count": 90,
     "metadata": {},
     "output_type": "execute_result"
    }
   ],
   "source": [
    "# Dump model\n",
    "joblib.dump(model_LR, 'models/LR.joblib')"
   ]
  },
  {
   "cell_type": "code",
   "execution_count": 91,
   "id": "dbc5d453",
   "metadata": {},
   "outputs": [
    {
     "data": {
      "text/html": [
       "<style>#sk-container-id-16 {color: black;background-color: white;}#sk-container-id-16 pre{padding: 0;}#sk-container-id-16 div.sk-toggleable {background-color: white;}#sk-container-id-16 label.sk-toggleable__label {cursor: pointer;display: block;width: 100%;margin-bottom: 0;padding: 0.3em;box-sizing: border-box;text-align: center;}#sk-container-id-16 label.sk-toggleable__label-arrow:before {content: \"▸\";float: left;margin-right: 0.25em;color: #696969;}#sk-container-id-16 label.sk-toggleable__label-arrow:hover:before {color: black;}#sk-container-id-16 div.sk-estimator:hover label.sk-toggleable__label-arrow:before {color: black;}#sk-container-id-16 div.sk-toggleable__content {max-height: 0;max-width: 0;overflow: hidden;text-align: left;background-color: #f0f8ff;}#sk-container-id-16 div.sk-toggleable__content pre {margin: 0.2em;color: black;border-radius: 0.25em;background-color: #f0f8ff;}#sk-container-id-16 input.sk-toggleable__control:checked~div.sk-toggleable__content {max-height: 200px;max-width: 100%;overflow: auto;}#sk-container-id-16 input.sk-toggleable__control:checked~label.sk-toggleable__label-arrow:before {content: \"▾\";}#sk-container-id-16 div.sk-estimator input.sk-toggleable__control:checked~label.sk-toggleable__label {background-color: #d4ebff;}#sk-container-id-16 div.sk-label input.sk-toggleable__control:checked~label.sk-toggleable__label {background-color: #d4ebff;}#sk-container-id-16 input.sk-hidden--visually {border: 0;clip: rect(1px 1px 1px 1px);clip: rect(1px, 1px, 1px, 1px);height: 1px;margin: -1px;overflow: hidden;padding: 0;position: absolute;width: 1px;}#sk-container-id-16 div.sk-estimator {font-family: monospace;background-color: #f0f8ff;border: 1px dotted black;border-radius: 0.25em;box-sizing: border-box;margin-bottom: 0.5em;}#sk-container-id-16 div.sk-estimator:hover {background-color: #d4ebff;}#sk-container-id-16 div.sk-parallel-item::after {content: \"\";width: 100%;border-bottom: 1px solid gray;flex-grow: 1;}#sk-container-id-16 div.sk-label:hover label.sk-toggleable__label {background-color: #d4ebff;}#sk-container-id-16 div.sk-serial::before {content: \"\";position: absolute;border-left: 1px solid gray;box-sizing: border-box;top: 0;bottom: 0;left: 50%;z-index: 0;}#sk-container-id-16 div.sk-serial {display: flex;flex-direction: column;align-items: center;background-color: white;padding-right: 0.2em;padding-left: 0.2em;position: relative;}#sk-container-id-16 div.sk-item {position: relative;z-index: 1;}#sk-container-id-16 div.sk-parallel {display: flex;align-items: stretch;justify-content: center;background-color: white;position: relative;}#sk-container-id-16 div.sk-item::before, #sk-container-id-16 div.sk-parallel-item::before {content: \"\";position: absolute;border-left: 1px solid gray;box-sizing: border-box;top: 0;bottom: 0;left: 50%;z-index: -1;}#sk-container-id-16 div.sk-parallel-item {display: flex;flex-direction: column;z-index: 1;position: relative;background-color: white;}#sk-container-id-16 div.sk-parallel-item:first-child::after {align-self: flex-end;width: 50%;}#sk-container-id-16 div.sk-parallel-item:last-child::after {align-self: flex-start;width: 50%;}#sk-container-id-16 div.sk-parallel-item:only-child::after {width: 0;}#sk-container-id-16 div.sk-dashed-wrapped {border: 1px dashed gray;margin: 0 0.4em 0.5em 0.4em;box-sizing: border-box;padding-bottom: 0.4em;background-color: white;}#sk-container-id-16 div.sk-label label {font-family: monospace;font-weight: bold;display: inline-block;line-height: 1.2em;}#sk-container-id-16 div.sk-label-container {text-align: center;}#sk-container-id-16 div.sk-container {/* jupyter's `normalize.less` sets `[hidden] { display: none; }` but bootstrap.min.css set `[hidden] { display: none !important; }` so we also need the `!important` here to be able to override the default hidden behavior on the sphinx rendered scikit-learn.org. See: https://github.com/scikit-learn/scikit-learn/issues/21755 */display: inline-block !important;position: relative;}#sk-container-id-16 div.sk-text-repr-fallback {display: none;}</style><div id=\"sk-container-id-16\" class=\"sk-top-container\"><div class=\"sk-text-repr-fallback\"><pre>LogisticRegression(C=7)</pre><b>In a Jupyter environment, please rerun this cell to show the HTML representation or trust the notebook. <br />On GitHub, the HTML representation is unable to render, please try loading this page with nbviewer.org.</b></div><div class=\"sk-container\" hidden><div class=\"sk-item\"><div class=\"sk-estimator sk-toggleable\"><input class=\"sk-toggleable__control sk-hidden--visually\" id=\"sk-estimator-id-20\" type=\"checkbox\" checked><label for=\"sk-estimator-id-20\" class=\"sk-toggleable__label sk-toggleable__label-arrow\">LogisticRegression</label><div class=\"sk-toggleable__content\"><pre>LogisticRegression(C=7)</pre></div></div></div></div></div>"
      ],
      "text/plain": [
       "LogisticRegression(C=7)"
      ]
     },
     "execution_count": 91,
     "metadata": {},
     "output_type": "execute_result"
    }
   ],
   "source": [
    "# Load fitted model\n",
    "model_LR = joblib.load('models/LR.joblib')\n",
    "model_LR"
   ]
  },
  {
   "cell_type": "markdown",
   "id": "5432d641",
   "metadata": {},
   "source": [
    "# Models testing"
   ]
  },
  {
   "cell_type": "code",
   "execution_count": 100,
   "id": "9898d05b",
   "metadata": {},
   "outputs": [],
   "source": [
    "tfidf = joblib.load('models/tfidf.joblib')\n",
    "cv = joblib.load('models/cv.joblib')"
   ]
  },
  {
   "cell_type": "code",
   "execution_count": 101,
   "id": "f32a371b",
   "metadata": {
    "collapsed": true
   },
   "outputs": [
    {
     "ename": "IndexError",
     "evalue": "Index dimension must be 1 or 2",
     "output_type": "error",
     "traceback": [
      "\u001b[1;31m---------------------------------------------------------------------------\u001b[0m",
      "\u001b[1;31mIndexError\u001b[0m                                Traceback (most recent call last)",
      "Cell \u001b[1;32mIn [101], line 1\u001b[0m\n\u001b[1;32m----> 1\u001b[0m X_test \u001b[38;5;241m=\u001b[39m tfidf\u001b[38;5;241m.\u001b[39mtransform(cv\u001b[38;5;241m.\u001b[39mtransform(\u001b[43mTransformer\u001b[49m\u001b[43m(\u001b[49m\u001b[43m)\u001b[49m\u001b[38;5;241;43m.\u001b[39;49m\u001b[43mtransform\u001b[49m\u001b[43m(\u001b[49m\u001b[43mX_test\u001b[49m\u001b[43m)\u001b[49m))\n",
      "Cell \u001b[1;32mIn [80], line 6\u001b[0m, in \u001b[0;36mTransformer.transform\u001b[1;34m(self, x)\u001b[0m\n\u001b[0;32m      5\u001b[0m \u001b[38;5;28;01mdef\u001b[39;00m \u001b[38;5;21mtransform\u001b[39m(\u001b[38;5;28mself\u001b[39m, x):\n\u001b[1;32m----> 6\u001b[0m     x[\u001b[38;5;124m'\u001b[39m\u001b[38;5;124msummary\u001b[39m\u001b[38;5;124m'\u001b[39m] \u001b[38;5;241m=\u001b[39m \u001b[43mx\u001b[49m\u001b[43m[\u001b[49m\u001b[38;5;124;43m'\u001b[39;49m\u001b[38;5;124;43mheadline\u001b[39;49m\u001b[38;5;124;43m'\u001b[39;49m\u001b[43m]\u001b[49m \u001b[38;5;241m+\u001b[39m \u001b[38;5;124m'\u001b[39m\u001b[38;5;124m \u001b[39m\u001b[38;5;124m'\u001b[39m \u001b[38;5;241m+\u001b[39m x[\u001b[38;5;124m'\u001b[39m\u001b[38;5;124mheadline\u001b[39m\u001b[38;5;124m'\u001b[39m]\n\u001b[0;32m      7\u001b[0m     x[\u001b[38;5;124m'\u001b[39m\u001b[38;5;124msummary\u001b[39m\u001b[38;5;124m'\u001b[39m] \u001b[38;5;241m=\u001b[39m x[\u001b[38;5;124m'\u001b[39m\u001b[38;5;124msummary\u001b[39m\u001b[38;5;124m'\u001b[39m]\u001b[38;5;241m.\u001b[39mmap(Transformer\u001b[38;5;241m.\u001b[39m__remove_punctuation)\n\u001b[0;32m      8\u001b[0m     x[\u001b[38;5;124m'\u001b[39m\u001b[38;5;124msummary\u001b[39m\u001b[38;5;124m'\u001b[39m] \u001b[38;5;241m=\u001b[39m x[\u001b[38;5;124m'\u001b[39m\u001b[38;5;124msummary\u001b[39m\u001b[38;5;124m'\u001b[39m]\u001b[38;5;241m.\u001b[39mmap(Transformer\u001b[38;5;241m.\u001b[39m__clean_text)\n",
      "File \u001b[1;32m~\\AppData\\Roaming\\Python\\Python310\\site-packages\\scipy\\sparse\\_index.py:47\u001b[0m, in \u001b[0;36mIndexMixin.__getitem__\u001b[1;34m(self, key)\u001b[0m\n\u001b[0;32m     46\u001b[0m \u001b[38;5;28;01mdef\u001b[39;00m \u001b[38;5;21m__getitem__\u001b[39m(\u001b[38;5;28mself\u001b[39m, key):\n\u001b[1;32m---> 47\u001b[0m     row, col \u001b[38;5;241m=\u001b[39m \u001b[38;5;28;43mself\u001b[39;49m\u001b[38;5;241;43m.\u001b[39;49m\u001b[43m_validate_indices\u001b[49m\u001b[43m(\u001b[49m\u001b[43mkey\u001b[49m\u001b[43m)\u001b[49m\n\u001b[0;32m     49\u001b[0m     \u001b[38;5;66;03m# Dispatch to specialized methods.\u001b[39;00m\n\u001b[0;32m     50\u001b[0m     \u001b[38;5;28;01mif\u001b[39;00m \u001b[38;5;28misinstance\u001b[39m(row, INT_TYPES):\n",
      "File \u001b[1;32m~\\AppData\\Roaming\\Python\\Python310\\site-packages\\scipy\\sparse\\_index.py:159\u001b[0m, in \u001b[0;36mIndexMixin._validate_indices\u001b[1;34m(self, key)\u001b[0m\n\u001b[0;32m    157\u001b[0m         row \u001b[38;5;241m+\u001b[39m\u001b[38;5;241m=\u001b[39m M\n\u001b[0;32m    158\u001b[0m \u001b[38;5;28;01melif\u001b[39;00m \u001b[38;5;129;01mnot\u001b[39;00m \u001b[38;5;28misinstance\u001b[39m(row, \u001b[38;5;28mslice\u001b[39m):\n\u001b[1;32m--> 159\u001b[0m     row \u001b[38;5;241m=\u001b[39m \u001b[38;5;28;43mself\u001b[39;49m\u001b[38;5;241;43m.\u001b[39;49m\u001b[43m_asindices\u001b[49m\u001b[43m(\u001b[49m\u001b[43mrow\u001b[49m\u001b[43m,\u001b[49m\u001b[43m \u001b[49m\u001b[43mM\u001b[49m\u001b[43m)\u001b[49m\n\u001b[0;32m    161\u001b[0m \u001b[38;5;28;01mif\u001b[39;00m isintlike(col):\n\u001b[0;32m    162\u001b[0m     col \u001b[38;5;241m=\u001b[39m \u001b[38;5;28mint\u001b[39m(col)\n",
      "File \u001b[1;32m~\\AppData\\Roaming\\Python\\Python310\\site-packages\\scipy\\sparse\\_index.py:183\u001b[0m, in \u001b[0;36mIndexMixin._asindices\u001b[1;34m(self, idx, length)\u001b[0m\n\u001b[0;32m    180\u001b[0m     \u001b[38;5;28;01mraise\u001b[39;00m \u001b[38;5;167;01mIndexError\u001b[39;00m(\u001b[38;5;124m'\u001b[39m\u001b[38;5;124minvalid index\u001b[39m\u001b[38;5;124m'\u001b[39m) \u001b[38;5;28;01mfrom\u001b[39;00m \u001b[38;5;21;01me\u001b[39;00m\n\u001b[0;32m    182\u001b[0m \u001b[38;5;28;01mif\u001b[39;00m x\u001b[38;5;241m.\u001b[39mndim \u001b[38;5;129;01mnot\u001b[39;00m \u001b[38;5;129;01min\u001b[39;00m (\u001b[38;5;241m1\u001b[39m, \u001b[38;5;241m2\u001b[39m):\n\u001b[1;32m--> 183\u001b[0m     \u001b[38;5;28;01mraise\u001b[39;00m \u001b[38;5;167;01mIndexError\u001b[39;00m(\u001b[38;5;124m'\u001b[39m\u001b[38;5;124mIndex dimension must be 1 or 2\u001b[39m\u001b[38;5;124m'\u001b[39m)\n\u001b[0;32m    185\u001b[0m \u001b[38;5;28;01mif\u001b[39;00m x\u001b[38;5;241m.\u001b[39msize \u001b[38;5;241m==\u001b[39m \u001b[38;5;241m0\u001b[39m:\n\u001b[0;32m    186\u001b[0m     \u001b[38;5;28;01mreturn\u001b[39;00m x\n",
      "\u001b[1;31mIndexError\u001b[0m: Index dimension must be 1 or 2"
     ]
    }
   ],
   "source": [
    "X_test = tfidf.transform(cv.transform(Transformer().transform(X_test)))"
   ]
  },
  {
   "cell_type": "markdown",
   "id": "32b1371b",
   "metadata": {},
   "source": [
    "## Naive Bayes"
   ]
  },
  {
   "cell_type": "code",
   "execution_count": 93,
   "id": "58a70e2f",
   "metadata": {},
   "outputs": [
    {
     "data": {
      "text/plain": [
       "0.5553584731632907"
      ]
     },
     "execution_count": 93,
     "metadata": {},
     "output_type": "execute_result"
    }
   ],
   "source": [
    "y_pred_NB = model_NB.predict(X_test)\n",
    "accuracy_score(y_test, y_pred_NB)"
   ]
  },
  {
   "cell_type": "code",
   "execution_count": 94,
   "id": "ec12c43f",
   "metadata": {},
   "outputs": [
    {
     "name": "stdout",
     "output_type": "stream",
     "text": [
      "                precision    recall  f1-score   support\n",
      "\n",
      "          ARTS       0.40      0.09      0.14       453\n",
      "ARTS & CULTURE       0.44      0.07      0.13       402\n",
      "      BUSINESS       0.48      0.33      0.39      1798\n",
      "       COLLEGE       0.69      0.11      0.19       343\n",
      "        COMEDY       0.53      0.30      0.38      1620\n",
      "         CRIME       0.60      0.52      0.56      1069\n",
      "CULTURE & ARTS       0.60      0.13      0.21       322\n",
      "       DIVORCE       0.77      0.48      0.59      1028\n",
      "     EDUCATION       0.70      0.05      0.09       304\n",
      " ENTERTAINMENT       0.54      0.77      0.63      5209\n",
      "   ENVIRONMENT       0.66      0.14      0.23       433\n",
      "         FIFTY       0.67      0.05      0.10       420\n",
      "  FOOD & DRINK       0.61      0.70      0.65      1902\n",
      "     GOOD NEWS       0.48      0.13      0.20       419\n",
      "         GREEN       0.43      0.19      0.27       787\n",
      "HEALTHY LIVING       0.29      0.11      0.15      2008\n",
      " HOME & LIVING       0.71      0.60      0.65      1296\n",
      "        IMPACT       0.43      0.16      0.23      1045\n",
      "         MEDIA       0.68      0.21      0.32       883\n",
      "         MONEY       0.56      0.14      0.22       527\n",
      "     PARENTING       0.44      0.49      0.46      2637\n",
      "       PARENTS       0.40      0.15      0.22      1186\n",
      "      POLITICS       0.57      0.92      0.70     10681\n",
      "      RELIGION       0.75      0.28      0.41       773\n",
      "       SCIENCE       0.73      0.34      0.47       662\n",
      "        SPORTS       0.74      0.61      0.67      1523\n",
      "         STYLE       0.49      0.07      0.11       676\n",
      "STYLE & BEAUTY       0.65      0.75      0.70      2944\n",
      "         TASTE       0.38      0.07      0.12       629\n",
      "          TECH       0.66      0.24      0.35       631\n",
      "        TRAVEL       0.61      0.72      0.66      2970\n",
      "     U.S. NEWS       0.44      0.04      0.07       413\n",
      "      WEDDINGS       0.78      0.51      0.62      1096\n",
      "    WEIRD NEWS       0.38      0.20      0.26       833\n",
      "      WELLNESS       0.47      0.72      0.56      5384\n",
      "         WOMEN       0.50      0.17      0.25      1072\n",
      "\n",
      "      accuracy                           0.56     56378\n",
      "     macro avg       0.56      0.32      0.36     56378\n",
      "  weighted avg       0.55      0.56      0.51     56378\n",
      "\n"
     ]
    }
   ],
   "source": [
    "print(classification_report(y_test, y_pred_NB))"
   ]
  },
  {
   "cell_type": "markdown",
   "id": "13016609",
   "metadata": {},
   "source": [
    "## Linear SVC"
   ]
  },
  {
   "cell_type": "code",
   "execution_count": 95,
   "id": "e142f36e",
   "metadata": {},
   "outputs": [
    {
     "data": {
      "text/plain": [
       "0.6026109475327255"
      ]
     },
     "execution_count": 95,
     "metadata": {},
     "output_type": "execute_result"
    }
   ],
   "source": [
    "y_pred_SVC = model_SVC.predict(X_test)\n",
    "accuracy_score(y_test, y_pred_SVC)"
   ]
  },
  {
   "cell_type": "code",
   "execution_count": 96,
   "id": "80b2dbd5",
   "metadata": {},
   "outputs": [
    {
     "name": "stdout",
     "output_type": "stream",
     "text": [
      "                precision    recall  f1-score   support\n",
      "\n",
      "          ARTS       0.28      0.18      0.22       453\n",
      "ARTS & CULTURE       0.36      0.21      0.26       402\n",
      "      BUSINESS       0.47      0.43      0.45      1798\n",
      "       COLLEGE       0.50      0.39      0.44       343\n",
      "        COMEDY       0.56      0.43      0.49      1620\n",
      "         CRIME       0.57      0.59      0.58      1069\n",
      "CULTURE & ARTS       0.40      0.25      0.31       322\n",
      "       DIVORCE       0.74      0.66      0.70      1028\n",
      "     EDUCATION       0.36      0.25      0.29       304\n",
      " ENTERTAINMENT       0.65      0.74      0.69      5209\n",
      "   ENVIRONMENT       0.41      0.26      0.32       433\n",
      "         FIFTY       0.35      0.18      0.24       420\n",
      "  FOOD & DRINK       0.62      0.71      0.66      1902\n",
      "     GOOD NEWS       0.40      0.24      0.30       419\n",
      "         GREEN       0.39      0.34      0.36       787\n",
      "HEALTHY LIVING       0.29      0.17      0.21      2008\n",
      " HOME & LIVING       0.69      0.70      0.70      1296\n",
      "        IMPACT       0.39      0.26      0.31      1045\n",
      "         MEDIA       0.58      0.42      0.48       883\n",
      "         MONEY       0.43      0.33      0.38       527\n",
      "     PARENTING       0.50      0.56      0.53      2637\n",
      "       PARENTS       0.38      0.23      0.28      1186\n",
      "      POLITICS       0.74      0.86      0.80     10681\n",
      "      RELIGION       0.62      0.55      0.58       773\n",
      "       SCIENCE       0.55      0.49      0.52       662\n",
      "        SPORTS       0.70      0.71      0.71      1523\n",
      "         STYLE       0.36      0.19      0.25       676\n",
      "STYLE & BEAUTY       0.71      0.78      0.74      2944\n",
      "         TASTE       0.32      0.18      0.23       629\n",
      "          TECH       0.50      0.45      0.48       631\n",
      "        TRAVEL       0.67      0.76      0.71      2970\n",
      "     U.S. NEWS       0.28      0.08      0.13       413\n",
      "      WEDDINGS       0.75      0.79      0.77      1096\n",
      "    WEIRD NEWS       0.33      0.23      0.27       833\n",
      "      WELLNESS       0.53      0.69      0.60      5384\n",
      "         WOMEN       0.39      0.31      0.34      1072\n",
      "\n",
      "      accuracy                           0.60     56378\n",
      "     macro avg       0.49      0.43      0.45     56378\n",
      "  weighted avg       0.58      0.60      0.58     56378\n",
      "\n"
     ]
    }
   ],
   "source": [
    "print(classification_report(y_test, y_pred_SVC))"
   ]
  },
  {
   "cell_type": "markdown",
   "id": "e96d4b04",
   "metadata": {},
   "source": [
    "## Logistic regression"
   ]
  },
  {
   "cell_type": "code",
   "execution_count": 98,
   "id": "21b4914a",
   "metadata": {},
   "outputs": [
    {
     "data": {
      "text/plain": [
       "0.5951967079357197"
      ]
     },
     "execution_count": 98,
     "metadata": {},
     "output_type": "execute_result"
    }
   ],
   "source": [
    "y_pred_LR = model_LR.predict(X_test)\n",
    "accuracy_score(y_test, y_pred_LR)"
   ]
  },
  {
   "cell_type": "code",
   "execution_count": 99,
   "id": "aeb1e045",
   "metadata": {},
   "outputs": [
    {
     "name": "stdout",
     "output_type": "stream",
     "text": [
      "                precision    recall  f1-score   support\n",
      "\n",
      "          ARTS       0.40      0.16      0.22       453\n",
      "ARTS & CULTURE       0.39      0.08      0.13       402\n",
      "      BUSINESS       0.48      0.44      0.46      1798\n",
      "       COLLEGE       0.55      0.39      0.46       343\n",
      "        COMEDY       0.52      0.43      0.47      1620\n",
      "         CRIME       0.57      0.58      0.58      1069\n",
      "CULTURE & ARTS       0.28      0.41      0.33       322\n",
      "       DIVORCE       0.79      0.62      0.69      1028\n",
      "     EDUCATION       0.43      0.24      0.31       304\n",
      " ENTERTAINMENT       0.63      0.73      0.67      5209\n",
      "   ENVIRONMENT       0.52      0.23      0.32       433\n",
      "         FIFTY       0.35      0.18      0.23       420\n",
      "  FOOD & DRINK       0.63      0.68      0.65      1902\n",
      "     GOOD NEWS       0.34      0.26      0.30       419\n",
      "         GREEN       0.42      0.36      0.39       787\n",
      "HEALTHY LIVING       0.32      0.20      0.24      2008\n",
      " HOME & LIVING       0.71      0.68      0.69      1296\n",
      "        IMPACT       0.42      0.28      0.33      1045\n",
      "         MEDIA       0.58      0.42      0.49       883\n",
      "         MONEY       0.51      0.30      0.38       527\n",
      "     PARENTING       0.49      0.53      0.51      2637\n",
      "       PARENTS       0.37      0.25      0.30      1186\n",
      "      POLITICS       0.73      0.85      0.78     10681\n",
      "      RELIGION       0.65      0.50      0.56       773\n",
      "       SCIENCE       0.60      0.48      0.53       662\n",
      "        SPORTS       0.69      0.65      0.67      1523\n",
      "         STYLE       0.36      0.26      0.30       676\n",
      "STYLE & BEAUTY       0.71      0.75      0.73      2944\n",
      "         TASTE       0.34      0.23      0.27       629\n",
      "          TECH       0.54      0.45      0.49       631\n",
      "        TRAVEL       0.67      0.73      0.70      2970\n",
      "     U.S. NEWS       0.31      0.13      0.18       413\n",
      "      WEDDINGS       0.76      0.76      0.76      1096\n",
      "    WEIRD NEWS       0.36      0.27      0.31       833\n",
      "      WELLNESS       0.49      0.70      0.57      5384\n",
      "         WOMEN       0.41      0.33      0.37      1072\n",
      "\n",
      "      accuracy                           0.60     56378\n",
      "     macro avg       0.51      0.43      0.46     56378\n",
      "  weighted avg       0.58      0.60      0.58     56378\n",
      "\n"
     ]
    }
   ],
   "source": [
    "print(classification_report(y_test, y_pred_LR))"
   ]
  },
  {
   "cell_type": "code",
   "execution_count": null,
   "id": "a02e7de0",
   "metadata": {},
   "outputs": [],
   "source": []
  },
  {
   "cell_type": "code",
   "execution_count": null,
   "id": "b5a9b90b",
   "metadata": {},
   "outputs": [],
   "source": []
  }
 ],
 "metadata": {
  "kernelspec": {
   "display_name": "Python 3 (ipykernel)",
   "language": "python",
   "name": "python3"
  },
  "language_info": {
   "codemirror_mode": {
    "name": "ipython",
    "version": 3
   },
   "file_extension": ".py",
   "mimetype": "text/x-python",
   "name": "python",
   "nbconvert_exporter": "python",
   "pygments_lexer": "ipython3",
   "version": "3.10.7"
  }
 },
 "nbformat": 4,
 "nbformat_minor": 5
}
